{
 "cells": [
  {
   "cell_type": "markdown",
   "metadata": {},
   "source": [
    "# Nanodegree Engenheiro de Machine Learning\n",
    "## Aprendizagem Supervisionada\n",
    "## Project 2: Construindo um Sistema de Intervenção para Estudantes"
   ]
  },
  {
   "cell_type": "markdown",
   "metadata": {},
   "source": [
    "Bem-vindo ao segundo projeto do Nanodegree de Machine Learning! Neste Notebook, alguns templates de código já foram fornecidos, e será o seu trabalho implementar funcionalidades necessárias para completar este projeto com êxito. Seções que começam com **'Implementação'** no cabeçalho indicam que o bloco de código que se segue precisará de funcionalidades adicionais que você deve fornecer. Instruções serão providenciadas para cada seção e as especificações para cada implementação estarão marcadas no bloco de código com o comando `'TODO'`. Tenha certeza de ler atentamente todas as instruções!\n",
    "\n",
    "Além do código implementado, haverá questões relacionadas ao projeto e à implementação que você deve responder. Cada seção em que você tem que responder uma questão será antecedida de um cabeçalho **'Questão X'**. Leia atentamente cada questão e escreva respostas completas nas caixas de texto subsequentes que começam com **'Resposta: '**. O projeto enviado será avaliado baseado nas respostas para cada questão e a implementação que você forneceu.  \n",
    "\n",
    ">**Nota:** Células de código e Markdown podem ser executadas utilizando o atalho de teclado **Shift + Enter**. Além disso, as células Markdown podem ser editadas, um clique duplo na célula entra no modo de edição."
   ]
  },
  {
   "cell_type": "markdown",
   "metadata": {},
   "source": [
    "### Questão 1 - Classificação versus Regressão\n",
    "*Seu objetivo neste projeto é identificar estudantes que possam precisar de intervenção antecipada antes de serem reprovados. Que tipo de problema de aprendizagem supervisionada é esse: classificação ou regressão? Por quê?*"
   ]
  },
  {
   "cell_type": "markdown",
   "metadata": {},
   "source": [
    "**Resposta: **\n",
    "\n",
    "Classificação, pois o objetivo é prever quais alunos precisam de intervenção antes de serem reprovados, ou seja estamos classificando dois grupos de estudantes, os que precisam de intervenção, e os que não precisam. Emquanto que regressão utilizamos quando queremos descobrir um valor contínuo."
   ]
  },
  {
   "cell_type": "markdown",
   "metadata": {},
   "source": [
    "## Observando os Dados\n",
    "Execute a célula de código abaixo para carregar as bibliotecas de Python necessárias e os dados sobre os estudantes. Note que a última coluna desse conjunto de dados, `'passed'`, será nosso rótulo alvo (se o aluno foi ou não aprovado). As outras colunas são atributos sobre cada aluno."
   ]
  },
  {
   "cell_type": "code",
   "execution_count": 105,
   "metadata": {},
   "outputs": [
    {
     "name": "stdout",
     "output_type": "stream",
     "text": [
      "Os dados dos estudantes foram lidos com êxito!\n"
     ]
    },
    {
     "data": {
      "text/html": [
       "<div>\n",
       "<style scoped>\n",
       "    .dataframe tbody tr th:only-of-type {\n",
       "        vertical-align: middle;\n",
       "    }\n",
       "\n",
       "    .dataframe tbody tr th {\n",
       "        vertical-align: top;\n",
       "    }\n",
       "\n",
       "    .dataframe thead th {\n",
       "        text-align: right;\n",
       "    }\n",
       "</style>\n",
       "<table border=\"1\" class=\"dataframe\">\n",
       "  <thead>\n",
       "    <tr style=\"text-align: right;\">\n",
       "      <th></th>\n",
       "      <th>school</th>\n",
       "      <th>sex</th>\n",
       "      <th>age</th>\n",
       "      <th>address</th>\n",
       "      <th>famsize</th>\n",
       "      <th>Pstatus</th>\n",
       "      <th>Medu</th>\n",
       "      <th>Fedu</th>\n",
       "      <th>Mjob</th>\n",
       "      <th>Fjob</th>\n",
       "      <th>...</th>\n",
       "      <th>internet</th>\n",
       "      <th>romantic</th>\n",
       "      <th>famrel</th>\n",
       "      <th>freetime</th>\n",
       "      <th>goout</th>\n",
       "      <th>Dalc</th>\n",
       "      <th>Walc</th>\n",
       "      <th>health</th>\n",
       "      <th>absences</th>\n",
       "      <th>passed</th>\n",
       "    </tr>\n",
       "  </thead>\n",
       "  <tbody>\n",
       "    <tr>\n",
       "      <th>0</th>\n",
       "      <td>GP</td>\n",
       "      <td>F</td>\n",
       "      <td>18</td>\n",
       "      <td>U</td>\n",
       "      <td>GT3</td>\n",
       "      <td>A</td>\n",
       "      <td>4</td>\n",
       "      <td>4</td>\n",
       "      <td>at_home</td>\n",
       "      <td>teacher</td>\n",
       "      <td>...</td>\n",
       "      <td>no</td>\n",
       "      <td>no</td>\n",
       "      <td>4</td>\n",
       "      <td>3</td>\n",
       "      <td>4</td>\n",
       "      <td>1</td>\n",
       "      <td>1</td>\n",
       "      <td>3</td>\n",
       "      <td>6</td>\n",
       "      <td>no</td>\n",
       "    </tr>\n",
       "    <tr>\n",
       "      <th>1</th>\n",
       "      <td>GP</td>\n",
       "      <td>F</td>\n",
       "      <td>17</td>\n",
       "      <td>U</td>\n",
       "      <td>GT3</td>\n",
       "      <td>T</td>\n",
       "      <td>1</td>\n",
       "      <td>1</td>\n",
       "      <td>at_home</td>\n",
       "      <td>other</td>\n",
       "      <td>...</td>\n",
       "      <td>yes</td>\n",
       "      <td>no</td>\n",
       "      <td>5</td>\n",
       "      <td>3</td>\n",
       "      <td>3</td>\n",
       "      <td>1</td>\n",
       "      <td>1</td>\n",
       "      <td>3</td>\n",
       "      <td>4</td>\n",
       "      <td>no</td>\n",
       "    </tr>\n",
       "    <tr>\n",
       "      <th>2</th>\n",
       "      <td>GP</td>\n",
       "      <td>F</td>\n",
       "      <td>15</td>\n",
       "      <td>U</td>\n",
       "      <td>LE3</td>\n",
       "      <td>T</td>\n",
       "      <td>1</td>\n",
       "      <td>1</td>\n",
       "      <td>at_home</td>\n",
       "      <td>other</td>\n",
       "      <td>...</td>\n",
       "      <td>yes</td>\n",
       "      <td>no</td>\n",
       "      <td>4</td>\n",
       "      <td>3</td>\n",
       "      <td>2</td>\n",
       "      <td>2</td>\n",
       "      <td>3</td>\n",
       "      <td>3</td>\n",
       "      <td>10</td>\n",
       "      <td>yes</td>\n",
       "    </tr>\n",
       "  </tbody>\n",
       "</table>\n",
       "<p>3 rows × 31 columns</p>\n",
       "</div>"
      ],
      "text/plain": [
       "  school sex  age address famsize Pstatus  Medu  Fedu     Mjob     Fjob  \\\n",
       "0     GP   F   18       U     GT3       A     4     4  at_home  teacher   \n",
       "1     GP   F   17       U     GT3       T     1     1  at_home    other   \n",
       "2     GP   F   15       U     LE3       T     1     1  at_home    other   \n",
       "\n",
       "   ...   internet romantic  famrel  freetime  goout Dalc Walc health absences  \\\n",
       "0  ...         no       no       4         3      4    1    1      3        6   \n",
       "1  ...        yes       no       5         3      3    1    1      3        4   \n",
       "2  ...        yes       no       4         3      2    2    3      3       10   \n",
       "\n",
       "  passed  \n",
       "0     no  \n",
       "1     no  \n",
       "2    yes  \n",
       "\n",
       "[3 rows x 31 columns]"
      ]
     },
     "execution_count": 105,
     "metadata": {},
     "output_type": "execute_result"
    }
   ],
   "source": [
    "# Importar bibliotecas\n",
    "import numpy as np\n",
    "import pandas as pd\n",
    "from time import time\n",
    "from sklearn.metrics import f1_score\n",
    "\n",
    "# Ler os dados dos estudantes\n",
    "student_data = pd.read_csv(\"student-data.csv\")\n",
    "print \"Os dados dos estudantes foram lidos com êxito!\"\n",
    "\n",
    "student_data.head(3)"
   ]
  },
  {
   "cell_type": "markdown",
   "metadata": {},
   "source": [
    "### Implementação: Observando os Dados\n",
    "Vamos começar observando o conjunto de dados para determinar quantos são os estudantes sobre os quais temos informações e entender a taxa de graduação entre esses estudantes. Na célula de código abaixo, você vai precisar calcular o seguinte:\n",
    "- O número total de estudantes, `n_students`.\n",
    "- O número total de atributos para cada estudante, `n_features`.\n",
    "- O número de estudantes aprovados, `n_passed`.\n",
    "- O número de estudantes reprovados, `n_failed`.\n",
    "- A taxa de graduação da classe, `grad_rate`, em porcentagem (%).\n"
   ]
  },
  {
   "cell_type": "code",
   "execution_count": 106,
   "metadata": {},
   "outputs": [
    {
     "name": "stdout",
     "output_type": "stream",
     "text": [
      "Número total de estudantes: 395\n",
      "Número de atributos: 30\n",
      "Número de estudantes aprovados: 265\n",
      "Número de estudantes reprovados: 130\n",
      "Taxa de graduação: 67.09%\n"
     ]
    }
   ],
   "source": [
    "# TODO: Calcule o número de estudante\n",
    "n_students = len(student_data.index)\n",
    "\n",
    "# TODO: Calcule o número de atributos\n",
    "# Ultima coluna é o resultado\n",
    "n_features = len(student_data.columns) - 1\n",
    "\n",
    "# TODO: Calcule o número de alunos aprovados\n",
    "n_passed = len(student_data.loc[student_data['passed'] == 'yes'])\n",
    "\n",
    "# TODO: Calcule o número de alunos reprovados\n",
    "n_failed = len(student_data.loc[student_data['passed'] == 'no'])\n",
    "\n",
    "# TODO: Calcule a taxa de graduação\n",
    "grad_rate = (n_passed / float(n_students)) * 100\n",
    "\n",
    "# Imprima os resultados\n",
    "print \"Número total de estudantes: {}\".format(n_students)\n",
    "print \"Número de atributos: {}\".format(n_features)\n",
    "print \"Número de estudantes aprovados: {}\".format(n_passed)\n",
    "print \"Número de estudantes reprovados: {}\".format(n_failed)\n",
    "print \"Taxa de graduação: {:.2f}%\".format(grad_rate)"
   ]
  },
  {
   "cell_type": "markdown",
   "metadata": {},
   "source": [
    "## Preparando os Dados\n",
    "Nesta seção, vamos preparara os dados para modelagem, treinamento e teste.\n",
    "\n",
    "### Identificar atributos e variáveis-alvo\n",
    "É comum que os dados que você obteve contenham atributos não numéricos. Isso pode ser um problema, dado que a maioria dos algoritmos de machine learning esperam dados númericos para operar cálculos.\n",
    "\n",
    "Execute a célula de código abaixo para separar os dados dos estudantes em atributos e variáveis-alvo e verificar se algum desses atributos é não numérico."
   ]
  },
  {
   "cell_type": "code",
   "execution_count": 107,
   "metadata": {},
   "outputs": [
    {
     "name": "stdout",
     "output_type": "stream",
     "text": [
      "Colunas de atributos:\n",
      "['school', 'sex', 'age', 'address', 'famsize', 'Pstatus', 'Medu', 'Fedu', 'Mjob', 'Fjob', 'reason', 'guardian', 'traveltime', 'studytime', 'failures', 'schoolsup', 'famsup', 'paid', 'activities', 'nursery', 'higher', 'internet', 'romantic', 'famrel', 'freetime', 'goout', 'Dalc', 'Walc', 'health', 'absences']\n",
      "\n",
      "Coluna-alvo: passed\n",
      "\n",
      "Feature values:\n",
      "  school sex  age address famsize Pstatus  Medu  Fedu     Mjob      Fjob  \\\n",
      "0     GP   F   18       U     GT3       A     4     4  at_home   teacher   \n",
      "1     GP   F   17       U     GT3       T     1     1  at_home     other   \n",
      "2     GP   F   15       U     LE3       T     1     1  at_home     other   \n",
      "3     GP   F   15       U     GT3       T     4     2   health  services   \n",
      "4     GP   F   16       U     GT3       T     3     3    other     other   \n",
      "\n",
      "    ...    higher internet  romantic  famrel  freetime goout Dalc Walc health  \\\n",
      "0   ...       yes       no        no       4         3     4    1    1      3   \n",
      "1   ...       yes      yes        no       5         3     3    1    1      3   \n",
      "2   ...       yes      yes        no       4         3     2    2    3      3   \n",
      "3   ...       yes      yes       yes       3         2     2    1    1      5   \n",
      "4   ...       yes       no        no       4         3     2    1    2      5   \n",
      "\n",
      "  absences  \n",
      "0        6  \n",
      "1        4  \n",
      "2       10  \n",
      "3        2  \n",
      "4        4  \n",
      "\n",
      "[5 rows x 30 columns]\n"
     ]
    }
   ],
   "source": [
    "# Extraia as colunas dos atributo\n",
    "feature_cols = list(student_data.columns[:-1])\n",
    "\n",
    "# Extraia a coluna-alvo, 'passed'\n",
    "target_col = student_data.columns[-1] \n",
    "\n",
    "# Mostre a lista de colunas\n",
    "print \"Colunas de atributos:\\n{}\".format(feature_cols)\n",
    "print \"\\nColuna-alvo: {}\".format(target_col)\n",
    "\n",
    "# Separe os dados em atributos e variáveis-alvo (X_all e y_all, respectivamente)\n",
    "X_all = student_data[feature_cols]\n",
    "y_all = student_data[target_col]\n",
    "\n",
    "# Mostre os atributos imprimindo as cinco primeiras linhas\n",
    "print \"\\nFeature values:\"\n",
    "print X_all.head()"
   ]
  },
  {
   "cell_type": "markdown",
   "metadata": {},
   "source": [
    "### Pré-processar Colunas de Atributo\n",
    "\n",
    "Como você pode ver, há muitas colunas não numéricas que precisam ser convertidas! Muitas delas são simplesmente `yes`/`no`, por exemplo, a coluna `internet`. É razoável converter essas variáveis em valores (binários) `1`/`0`.\n",
    "\n",
    "Outras colunas, como `Mjob` e `Fjob`, têm mais do que dois valores e são conhecidas como variáveis categóricas. A maneira recomendada de lidar com esse tipo de coluna é criar uma quantidade de colunas proporcional aos possíveis valores (por exemplo, `Fjob_teacher`, `Fjob_other`, `Fjob_services`, etc), e assinalar `1` para um deles e `0` para todos os outros.\n",
    "\n",
    "Essas colunas geradas são por vezes chamadas de _variáveis postiças_ (em inglês: _dummy variables_), e nós iremos utilizar a função [`pandas.get_dummies()`](http://pandas.pydata.org/pandas-docs/stable/generated/pandas.get_dummies.html?highlight=get_dummies#pandas.get_dummies) para fazer essa conversão. Execute a célula de código abaixo para executar a rotina de pré-processamento discutida nesta seção."
   ]
  },
  {
   "cell_type": "code",
   "execution_count": 108,
   "metadata": {},
   "outputs": [
    {
     "name": "stdout",
     "output_type": "stream",
     "text": [
      "Processed feature columns (48 total features):\n",
      "['school_GP', 'school_MS', 'sex_F', 'sex_M', 'age', 'address_R', 'address_U', 'famsize_GT3', 'famsize_LE3', 'Pstatus_A', 'Pstatus_T', 'Medu', 'Fedu', 'Mjob_at_home', 'Mjob_health', 'Mjob_other', 'Mjob_services', 'Mjob_teacher', 'Fjob_at_home', 'Fjob_health', 'Fjob_other', 'Fjob_services', 'Fjob_teacher', 'reason_course', 'reason_home', 'reason_other', 'reason_reputation', 'guardian_father', 'guardian_mother', 'guardian_other', 'traveltime', 'studytime', 'failures', 'schoolsup', 'famsup', 'paid', 'activities', 'nursery', 'higher', 'internet', 'romantic', 'famrel', 'freetime', 'goout', 'Dalc', 'Walc', 'health', 'absences']\n",
      "   school_GP  school_MS  sex_F  sex_M  age  address_R  address_U  famsize_GT3  \\\n",
      "0          1          0      1      0   18          0          1            1   \n",
      "1          1          0      1      0   17          0          1            1   \n",
      "2          1          0      1      0   15          0          1            0   \n",
      "\n",
      "   famsize_LE3  Pstatus_A    ...     higher  internet  romantic  famrel  \\\n",
      "0            0          1    ...          1         0         0       4   \n",
      "1            0          0    ...          1         1         0       5   \n",
      "2            1          0    ...          1         1         0       4   \n",
      "\n",
      "   freetime  goout  Dalc  Walc  health  absences  \n",
      "0         3      4     1     1       3         6  \n",
      "1         3      3     1     1       3         4  \n",
      "2         3      2     2     3       3        10  \n",
      "\n",
      "[3 rows x 48 columns]\n"
     ]
    }
   ],
   "source": [
    "def preprocess_features(X):\n",
    "    ''' Pré-processa os dados dos estudantes e converte as variáveis binárias não numéricas em\n",
    "        variáveis binárias (0/1). Converte variáveis categóricas em variáveis postiças. '''\n",
    "    \n",
    "    # Inicialize nova saída DataFrame\n",
    "    output = pd.DataFrame(index = X.index)\n",
    "\n",
    "    # Observe os dados em cada coluna de atributos \n",
    "    for col, col_data in X.iteritems():\n",
    "        \n",
    "        # Se o tipo de dado for não numérico, substitua todos os valores yes/no por 1/0\n",
    "        if col_data.dtype == object:\n",
    "            col_data = col_data.replace(['yes', 'no'], [1, 0])\n",
    "\n",
    "        # Se o tipo de dado for categórico, converta-o para uma variável dummy\n",
    "        if col_data.dtype == object:\n",
    "            # Example: 'school' => 'school_GP' and 'school_MS'\n",
    "            col_data = pd.get_dummies(col_data, prefix = col)  \n",
    "        \n",
    "        # Reúna as colunas revisadas\n",
    "        output = output.join(col_data)\n",
    "    \n",
    "    return output\n",
    "\n",
    "X_all = preprocess_features(X_all)\n",
    "print \"Processed feature columns ({} total features):\\n{}\".format(len(X_all.columns), list(X_all.columns))\n",
    "print X_all.head(3)"
   ]
  },
  {
   "cell_type": "markdown",
   "metadata": {},
   "source": [
    "### Implementação: Divisão dos Dados de Treinamento e Teste\n",
    "Até agora, nós convertemos todos os atributos _categóricos_ em valores numéricos. Para o próximo passo, vamos dividir os dados (tanto atributos como os rótulos correspondentes) em conjuntos de treinamento e teste. Na célula de código abaixo, você irá precisar implementar o seguinte:\n",
    "- Embaralhe aleatoriamente os dados (`X_all`, `y_all`) em subconjuntos de treinamento e teste.\n",
    "  - Utilizar 300 pontos de treinamento (aproxidamente 75%) e 95 pontos de teste (aproximadamente 25%).\n",
    "  - Estabelecer um `random_state` para as funções que você utiliza, se a opção existir.\n",
    "  - Armazene os resultados em `X_train`, `X_test`, `y_train` e `y_test`."
   ]
  },
  {
   "cell_type": "code",
   "execution_count": 109,
   "metadata": {},
   "outputs": [
    {
     "name": "stdout",
     "output_type": "stream",
     "text": [
      "O conjunto de treinamento tem 300 amostras.\n",
      "O conjunto de teste tem 95 amostras.\n"
     ]
    }
   ],
   "source": [
    "# TODO: Importe qualquer funcionalidade adicional de que você possa precisar aqui\n",
    "from sklearn.cross_validation import train_test_split\n",
    "\n",
    "# TODO: Estabeleça o número de pontos de treinamento\n",
    "num_train = 300\n",
    "\n",
    "# Estabeleça o número de pontos de teste\n",
    "num_test = n_students - num_train\n",
    "\n",
    "# TODO: Emabaralhe e distribua o conjunto de dados de acordo com o número de pontos de treinamento e teste abaixo\n",
    "X_train, X_test, y_train, y_test = train_test_split(X_all, y_all, test_size=num_test, random_state=10)\n",
    "\n",
    "# Mostre o resultado da distribuição\n",
    "print \"O conjunto de treinamento tem {} amostras.\".format(X_train.shape[0])\n",
    "print \"O conjunto de teste tem {} amostras.\".format(X_test.shape[0])"
   ]
  },
  {
   "cell_type": "markdown",
   "metadata": {},
   "source": [
    "## Treinando e Avaliando Modelos\n",
    "Nesta seção, você irá escolher 3 modelos de aprendizagem supervisionada que sejam apropriados para esse problema e que estejam disponíveis no `scikit-learn`. Primeiro você irá discutir o raciocínio por trás da escolha desses três modelos considerando suas vantagens e desvantagens e o que você sabe sobre os dados. Depois você irá ajustar o modelo a diferentes tamanhos de conjuntos de treinamento (com 100, 200 e 300 pontos) e medir a pontuação F<sub>1</sub>. Você vai precisar preencher três tabelas (uma para cada modelo) que mostrem o tamanho do conjunto de treinamento, o tempo de treinamento, o tempo de previsão e a pontuação F<sub>1</sub> no conjunto de treinamento.\n",
    "\n",
    "**Os seguintes modelos de aprendizagem supervisionada estão atualmente disponíveis no **[`scikit-learn`](http://scikit-learn.org/stable/supervised_learning.html)** para você escolher:**\n",
    "- Gaussian Naive Bayes (GaussianNB)\n",
    "- Árvores de Decisão\n",
    "- Métodos de agregação (Bagging, AdaBoost, Random Forest, Gradient Boosting)\n",
    "- K-Nearest Neighbors (KNeighbors)\n",
    "- Método do gradiente estocástico (SGDC)\n",
    "- Máquinas de vetores de suporte (SVM)\n",
    "- Regressão logística"
   ]
  },
  {
   "cell_type": "markdown",
   "metadata": {},
   "source": [
    "### Questão 2 - Aplicação dos Modelos\n",
    "*Liste três modelos de aprendizagem supervisionada que são apropriadas para esse problema. Para cada modelo escolhido:*\n",
    "- Descreva uma aplicação em mundo real na indústria em que o modelo pode ser aplicado. *(Talvez você precise fazer um pouco de pesquisa para responder essa questão – dê as devidas referências!)* \n",
    "- Quais são as vantagens do modelo; quando ele tem desempenho melhor? \n",
    "- Quais são as desvantagens do modelo, quando ele tem desempenho pior?\n",
    "- O que faz desse modelo um bom candidato para o problema, considerando o que você sabe sobre os dados?"
   ]
  },
  {
   "cell_type": "markdown",
   "metadata": {},
   "source": [
    "**Resposta: **\n",
    "\n",
    "**Classificador 1 - Model A: Logistic Regression: **\n",
    "\n",
    "*Aplicação Real:*<br/>\n",
    "Previsões na área médica onde o resultado é booleano, se a pessoa \"está\" ou \"não está\" apresentando depressão.<br/>\n",
    "Refêrencia: Quora https://www.quora.com/What-are-applications-of-linear-and-logistic-regression Acessado em 22/12/2017.<br/>\n",
    "\n",
    "*Vantagens:*<br/>\n",
    "-Treino rápido;<br/>\n",
    "-Modelo linear;<br/>\n",
    "-Baixa Variância;<br/>\n",
    "\n",
    "*Desvantagens:*<br/>\n",
    "-Sobreajusta o modelo com facilidade;<br/>\n",
    "-Alto viés;<br/>\n",
    "\n",
    "*Neste Problema:*\n",
    "Este modelo pode apresentar um bom resultado para este problema, pois os dados foram bem ajustados para um modelo linear (dados categoricos, foram facilmente ajustados para valores numéricos, como por exemplo transformamos \"sim\" e \"nao\" em 1 e 0). E, baseado na referências da aplicação real, a regressção logística é boa para classificar resultados que possuem duas classes de saída, exemplo: \"aprovados\" e \"não aprovados\".\n",
    "\n",
    "\n",
    "**Classificador 2 - Model B: Decision Tree Classifier: **\n",
    "\n",
    "*Aplicação Real:*<br/>\n",
    "Gerenciamento na área de negócios, devido a facilidade de interpretação gráfica, e de utilizar features que são \"comprensíveis\", os algoritmos de árvore de decisão são geralmente usados em tomadas de decisão na área de negócios.<br/>\n",
    "Refêrencia: What-When-How http://what-when-how.com/artificial-intelligence/decision-tree-applications-for-data-modelling-artificial-intelligence/ Acessado em 22/12/2017.<br/>\n",
    "\n",
    "*Vantagens:*<br/>\n",
    "-Trata com facilidade variáveis categoricas;<br/>\n",
    "-Fácil interpretação gráfica;<br/>\n",
    "\n",
    "*Desvantagens:*<br/>\n",
    "-Tende a sobreajustar o modelo;<br/>\n",
    "\n",
    "*Neste Problema:*\n",
    "Este modelo pode ter um resultado satisfatório neste problema, pois se assemelha com os problemas de gerenciamento na área de negócios, e os dados se encaixam bem com as vantagens deste modelo.\n",
    "\n",
    "**Classificador 3 - Model C: Support Vector Machine: **\n",
    "\n",
    "*Aplicação Real:*<br/>\n",
    "SVM são muito utilizados em classificação de imagens, entre elas detecção de rostos.<br/>\n",
    "Refêrencia: Data-flair https://data-flair.training/blogs/applications-of-svm/ Acessado em 22/12/2017.<br/>\n",
    "\n",
    "*Vantagens:*<br/>\n",
    "-Funciona bem em conjuntos pequenos com dados limpos e organizados;<br/>\n",
    "-Preciso e eficiente pois usa subconjuntos de pontos de treinamento;<br/>\n",
    "*Desvantagens:*<br/>\n",
    "-Baixo desempenho em grandes conjuntos de dados;<br/>\n",
    "-Eficiência cai com conjuntos de dados muito desorganizados(ou dados muito fora do desvio padrão, etc);<br/>\n",
    "\n",
    "*Neste Problema:*\n",
    "É esperado que neste problema o classificador SVM tenha uma boa eficiência, e um desempenho bom/médio, pois estamos trabalhando com um conjunto pequeno, de aproximadamente 360 registros e com 30 colunas, os dados também já foram recebidos organizados e limpos. Ou seja, o conjunto de dados deste problema se encaixa bem nos prós deste modelo.\n"
   ]
  },
  {
   "cell_type": "markdown",
   "metadata": {},
   "source": [
    "### Configuração\n",
    "Execute a célula de código abaixo para inicializar três funções de ajuda que você pode utilizar para treinar e testar os três modelos de aprendizagem supervisionada que você escolheu acima. As funções são as seguintes:\n",
    "- `train_classifier` - recebe como parâmetro um classificador e dados de treinamento e ajusta o classificador aos dados.\n",
    "- `predict_labels` - recebe como parâmetro um classificador ajustado, atributos e rótulo alvo e faz estimativas utilizando a pontuação do F<sub>1</sub>.\n",
    "- `train_predict` - recebe como entrada um classificador, e dados de treinamento e teste, e executa `train_clasifier` e `predict_labels`.\n",
    " - Essa função vai dar a pontuação F<sub>1</sub> tanto para os dados de treinamento como para os de teste, separadamente."
   ]
  },
  {
   "cell_type": "code",
   "execution_count": 110,
   "metadata": {},
   "outputs": [],
   "source": [
    "#implemtação de codigo para imprimir o markdown sozinho :)\n",
    "\n",
    "global col_1\n",
    "global col_2\n",
    "global col_3\n",
    "global col_4\n",
    "global col_5\n",
    "col_1 = 'Tamanho do Conj de Treinamento'\n",
    "col_2 = 'Tempo de Treinamento'\n",
    "col_3 = 'Tempo de Estimativa (teste)'\n",
    "col_4 = 'Pontuacao F1 (treinamento)'\n",
    "col_5 = 'Pontuacao F1 (teste)'\n",
    "\n",
    "global df_model\n",
    "df_model = pd.DataFrame(columns=[col_1, col_2, col_3, col_4, col_5], index=[100, 200, 300])\n",
    "df_backup = df_model.copy()\n",
    "\n",
    "\n",
    "def pandas_df_to_markdown_table(df):\n",
    "    '''\n",
    "    Função para tabular com markdown.\n",
    "    Creditos para o autor na publicação abaixo.\n",
    "    Acessado em https://stackoverflow.com/questions/33181846/programmatically-convert-pandas-dataframe-to-markdown-table\n",
    "    '''\n",
    "    from IPython.display import Markdown, display\n",
    "    fmt = ['---' for i in range(len(df.columns))]\n",
    "    df_fmt = pd.DataFrame([fmt], columns=df.columns)\n",
    "    df_formatted = pd.concat([df_fmt, df])\n",
    "    display(Markdown(df_formatted.to_csv(sep=\"|\", index=False)))"
   ]
  },
  {
   "cell_type": "code",
   "execution_count": 111,
   "metadata": {},
   "outputs": [],
   "source": [
    "def train_classifier(clf, X_train, y_train, index=None):\n",
    "    ''' Ajusta um classificador para os dados de treinamento. '''\n",
    "    \n",
    "    # Inicia o relógio, treina o classificador e, então, para o relógio\n",
    "    start = time()\n",
    "    clf.fit(X_train, y_train)\n",
    "    end = time()\n",
    "    \n",
    "    # Imprime os resultados\n",
    "    print \"O modelo foi treinado em {:.4f} segundos\".format(end - start)\n",
    "    if index:\n",
    "        df_model.loc[index,col_2] = \"{:.4f} seg\".format(end - start)\n",
    "\n",
    "    \n",
    "def predict_labels(clf, features, target, index=None):\n",
    "    ''' Faz uma estimativa utilizando um classificador ajustado baseado na pontuação F1. '''\n",
    "    \n",
    "    # Inicia o relógio, faz estimativas e, então, o relógio para\n",
    "    start = time()\n",
    "    y_pred = clf.predict(features)\n",
    "    end = time()\n",
    "    \n",
    "    # Imprime os resultados de retorno\n",
    "    print \"As previsões foram feitas em {:.4f} segundos.\".format(end - start)\n",
    "    if index:\n",
    "        df_model.loc[index, col_3] = \"{:.4f} seg\".format(end - start)\n",
    "    \n",
    "    return f1_score(target.values, y_pred, pos_label='yes')\n",
    "\n",
    "\n",
    "def train_predict(clf, X_train, y_train, X_test, y_test):\n",
    "    ''' Treina e faz estimativas utilizando um classificador baseado na pontuação do F1. '''\n",
    "    \n",
    "    index = len(X_train)\n",
    "    \n",
    "    # Indica o tamanho do classificador e do conjunto de treinamento\n",
    "    print \"Treinando um {} com {} pontos de treinamento. . .\".format(clf.__class__.__name__, index)\n",
    "    df_model.loc[index, col_1] = index\n",
    "    \n",
    "    # Treina o classificador\n",
    "    train_classifier(clf, X_train, y_train, index)\n",
    "    \n",
    "    # Imprime os resultados das estimativas de ambos treinamento e teste\n",
    "    time_train = predict_labels(clf, X_train, y_train, index)\n",
    "    time_test = predict_labels(clf, X_test, y_test, index)\n",
    "    print \"Pontuação F1 para o conjunto de treino: {:.4f}.\".format(time_train)\n",
    "    print \"Pontuação F1 para o conjunto de teste: {:.4f}.\".format(time_test)\n",
    "    df_model.loc[index, col_4] = \"{:.4f}.\".format(time_train)\n",
    "    df_model.loc[index, col_5] = \"{:.4f}.\".format(time_test)"
   ]
  },
  {
   "cell_type": "markdown",
   "metadata": {},
   "source": [
    "### Implementação: Métricas de Desempenho do Modelo\n",
    "Com as funções acima, você vai importar os três modelos de aprendizagem supervisionada de sua escolha e executar a função `train_prediction` para cada um deles. Lembre-se de que você vai precisar treinar e usar cada classificador para três diferentes tamanhos de conjuntos de treinamentos: 100, 200 e 300 pontos. Então você deve ter 9 saídas diferentes abaixo – 3 para cada modelo utilizando cada tamanho de conjunto de treinamento. Na célula de código a seguir, você deve implementar o seguinte:\n",
    "- Importe os três modelos de aprendizagem supervisionada que você escolheu na seção anterior.\n",
    "- Inicialize os três modelos e armazene eles em `clf_A`, `clf_B` e `clf_C`.\n",
    " - Defina um `random_state` para cada modelo, se a opção existir.\n",
    " - **Nota:** Utilize as configurações padrão para cada modelo – você vai calibrar um modelo específico em uma seção posterior.\n",
    "- Crie diferentes tamanhos de conjuntos de treinamento para treinar cada modelo.\n",
    " - *Não embaralhe e distribua novamente os dados! Os novos pontos de treinamento devem ser tirados de `X_train` e `y_train`.*\n",
    "- Treine cada modelo com cada tamanho de conjunto de treinamento e faça estimativas com o conjunto de teste (9 vezes no total).  \n",
    "**Nota:** Três tabelas são fornecidas depois da célula de código a seguir, nas quais você deve anotar seus resultados."
   ]
  },
  {
   "cell_type": "code",
   "execution_count": 112,
   "metadata": {},
   "outputs": [
    {
     "name": "stdout",
     "output_type": "stream",
     "text": [
      "Treinando um LogisticRegression com 100 pontos de treinamento. . .\n",
      "O modelo foi treinado em 0.0030 segundos\n",
      "As previsões foram feitas em 0.0010 segundos.\n",
      "As previsões foram feitas em 0.0010 segundos.\n",
      "Pontuação F1 para o conjunto de treino: 0.8593.\n",
      "Pontuação F1 para o conjunto de teste: 0.7612.\n",
      "\n",
      "Treinando um LogisticRegression com 200 pontos de treinamento. . .\n",
      "O modelo foi treinado em 0.0040 segundos\n",
      "As previsões foram feitas em 0.0010 segundos.\n",
      "As previsões foram feitas em 0.0000 segundos.\n",
      "Pontuação F1 para o conjunto de treino: 0.8444.\n",
      "Pontuação F1 para o conjunto de teste: 0.7591.\n",
      "\n",
      "Treinando um LogisticRegression com 300 pontos de treinamento. . .\n",
      "O modelo foi treinado em 0.0050 segundos\n",
      "As previsões foram feitas em 0.0000 segundos.\n",
      "As previsões foram feitas em 0.0000 segundos.\n",
      "Pontuação F1 para o conjunto de treino: 0.8263.\n",
      "Pontuação F1 para o conjunto de teste: 0.8169.\n",
      "\n",
      "Treinando um DecisionTreeClassifier com 100 pontos de treinamento. . .\n",
      "O modelo foi treinado em 0.0000 segundos\n",
      "As previsões foram feitas em 0.0000 segundos.\n",
      "As previsões foram feitas em 0.0000 segundos.\n",
      "Pontuação F1 para o conjunto de treino: 1.0000.\n",
      "Pontuação F1 para o conjunto de teste: 0.6667.\n",
      "\n",
      "Treinando um DecisionTreeClassifier com 200 pontos de treinamento. . .\n",
      "O modelo foi treinado em 0.0000 segundos\n",
      "As previsões foram feitas em 0.0000 segundos.\n",
      "As previsões foram feitas em 0.0000 segundos.\n",
      "Pontuação F1 para o conjunto de treino: 1.0000.\n",
      "Pontuação F1 para o conjunto de teste: 0.6818.\n",
      "\n",
      "Treinando um DecisionTreeClassifier com 300 pontos de treinamento. . .\n",
      "O modelo foi treinado em 0.0150 segundos\n",
      "As previsões foram feitas em 0.0000 segundos.\n",
      "As previsões foram feitas em 0.0000 segundos.\n",
      "Pontuação F1 para o conjunto de treino: 1.0000.\n",
      "Pontuação F1 para o conjunto de teste: 0.6774.\n",
      "\n",
      "Treinando um SVC com 100 pontos de treinamento. . .\n",
      "O modelo foi treinado em 0.0160 segundos\n",
      "As previsões foram feitas em 0.0000 segundos.\n",
      "As previsões foram feitas em 0.0000 segundos.\n",
      "Pontuação F1 para o conjunto de treino: 0.8366.\n",
      "Pontuação F1 para o conjunto de teste: 0.8228.\n",
      "\n",
      "Treinando um SVC com 200 pontos de treinamento. . .\n",
      "O modelo foi treinado em 0.0150 segundos\n",
      "As previsões foram feitas em 0.0000 segundos.\n",
      "As previsões foram feitas em 0.0000 segundos.\n",
      "Pontuação F1 para o conjunto de treino: 0.8552.\n",
      "Pontuação F1 para o conjunto de teste: 0.7947.\n",
      "\n",
      "Treinando um SVC com 300 pontos de treinamento. . .\n",
      "O modelo foi treinado em 0.0000 segundos\n",
      "As previsões foram feitas em 0.0160 segundos.\n",
      "As previsões foram feitas em 0.0000 segundos.\n",
      "Pontuação F1 para o conjunto de treino: 0.8615.\n",
      "Pontuação F1 para o conjunto de teste: 0.8079.\n",
      "\n"
     ]
    }
   ],
   "source": [
    "# TODO: Importe os três modelos de aprendizagem supervisionada do sklearn\n",
    "# from sklearn import model_A\n",
    "from sklearn.linear_model import LogisticRegression\n",
    "# from sklearn import model_B\n",
    "from sklearn.tree import DecisionTreeClassifier\n",
    "# from skearln import model_C\n",
    "from sklearn.svm import SVC\n",
    "\n",
    "# definição de um random state 'fixo'\n",
    "custom_random_state = 32\n",
    "\n",
    "# TODO: Inicialize os três modelos\n",
    "clf_A = LogisticRegression(random_state=custom_random_state)\n",
    "clf_B = DecisionTreeClassifier(random_state=custom_random_state)\n",
    "clf_C = SVC(random_state=custom_random_state)\n",
    "\n",
    "# Cria array de classificadores e dataframe de resultados\n",
    "clfs = [clf_A, clf_B, clf_C]\n",
    "df_A = None\n",
    "df_B = None\n",
    "df_C = None\n",
    "dfs = [df_A, df_B, df_C]\n",
    "\n",
    "# TODO: Configure os tamanho dos conjuntos de treinamento\n",
    "X_train_100 = X_train[:100]\n",
    "y_train_100 = y_train[:100]\n",
    "\n",
    "X_train_200 = X_train[:200]\n",
    "y_train_200 = y_train[:200]\n",
    "\n",
    "X_train_300 = X_train[:300]\n",
    "y_train_300 = y_train[:300]\n",
    "\n",
    "train_sets = [(X_train_100, y_train_100), (X_train_200, y_train_200), (X_train_300, y_train_300)]\n",
    "\n",
    "# TODO: Executar a função 'train_predict' para cada classificador e cada tamanho de conjunto de treinamento\n",
    "# train_predict(clf, X_train, y_train, X_test, y_test)\n",
    "for i, x in enumerate(clfs):\n",
    "    for current_X, current_y in train_sets:\n",
    "        train_predict(clfs[i], current_X, current_y, X_test, y_test)\n",
    "        print ''\n",
    "    dfs[i] = df_model.copy()\n",
    "    df_model = df_backup.copy()"
   ]
  },
  {
   "cell_type": "markdown",
   "metadata": {},
   "source": [
    "### Resultados Tabulados\n",
    "Edite a célula abaixo e veja como a tabela pode ser desenhada em [Markdown](https://github.com/adam-p/markdown-here/wiki/Markdown-Cheatsheet#tables). Você deve salvar seus resultados abaixo nas tabelas fornecidas."
   ]
  },
  {
   "cell_type": "code",
   "execution_count": 113,
   "metadata": {},
   "outputs": [
    {
     "name": "stdout",
     "output_type": "stream",
     "text": [
      "\u001b[1m\u001b[4m\n",
      "Classificador 1 - LogisticRegression\u001b[0m\n"
     ]
    },
    {
     "data": {
      "text/markdown": [
       "Tamanho do Conj de Treinamento|Tempo de Treinamento|Tempo de Estimativa (teste)|Pontuacao F1 (treinamento)|Pontuacao F1 (teste)\n",
       "---|---|---|---|---\n",
       "100|0.0030 seg|0.0010 seg|0.8593.|0.7612.\n",
       "200|0.0040 seg|0.0000 seg|0.8444.|0.7591.\n",
       "300|0.0050 seg|0.0000 seg|0.8263.|0.8169.\n"
      ],
      "text/plain": [
       "<IPython.core.display.Markdown object>"
      ]
     },
     "metadata": {},
     "output_type": "display_data"
    },
    {
     "name": "stdout",
     "output_type": "stream",
     "text": [
      "\u001b[1m\u001b[4m\n",
      "Classificador 2 - DecisionTreeClassifier\u001b[0m\n"
     ]
    },
    {
     "data": {
      "text/markdown": [
       "Tamanho do Conj de Treinamento|Tempo de Treinamento|Tempo de Estimativa (teste)|Pontuacao F1 (treinamento)|Pontuacao F1 (teste)\n",
       "---|---|---|---|---\n",
       "100|0.0000 seg|0.0000 seg|1.0000.|0.6667.\n",
       "200|0.0000 seg|0.0000 seg|1.0000.|0.6818.\n",
       "300|0.0150 seg|0.0000 seg|1.0000.|0.6774.\n"
      ],
      "text/plain": [
       "<IPython.core.display.Markdown object>"
      ]
     },
     "metadata": {},
     "output_type": "display_data"
    },
    {
     "name": "stdout",
     "output_type": "stream",
     "text": [
      "\u001b[1m\u001b[4m\n",
      "Classificador 3 - SVC\u001b[0m\n"
     ]
    },
    {
     "data": {
      "text/markdown": [
       "Tamanho do Conj de Treinamento|Tempo de Treinamento|Tempo de Estimativa (teste)|Pontuacao F1 (treinamento)|Pontuacao F1 (teste)\n",
       "---|---|---|---|---\n",
       "100|0.0160 seg|0.0000 seg|0.8366.|0.8228.\n",
       "200|0.0150 seg|0.0000 seg|0.8552.|0.7947.\n",
       "300|0.0000 seg|0.0000 seg|0.8615.|0.8079.\n"
      ],
      "text/plain": [
       "<IPython.core.display.Markdown object>"
      ]
     },
     "metadata": {},
     "output_type": "display_data"
    }
   ],
   "source": [
    "#Exibindo tabelas automaticamente\n",
    "for i, x in enumerate(clfs):\n",
    "    print '\\033[1m' + '\\033[4m' + \"\\nClassificador \" + str(i+1) + ' - ' + clfs[i].__class__.__name__ + '\\033[0m'\n",
    "    pandas_df_to_markdown_table(dfs[i])"
   ]
  },
  {
   "cell_type": "markdown",
   "metadata": {},
   "source": [
    "\n",
    "\n",
    "## Escolhendo o Melhor Modelo\n",
    "Nesta seção final, você irá escolher dos três modelos de aprendizagem supervisionada o *melhor* para utilizar os dados dos estudantes. Você então executará um busca em matriz otimizada para o modelo em todo o conjunto de treinamento (`X_train` e `y_train`) ao calibrar pelo menos um parâmetro, melhorando em comparação a pontuação F<sub>1</sub> do modelo não calibrado. "
   ]
  },
  {
   "cell_type": "markdown",
   "metadata": {},
   "source": [
    "### Questão 3 - Escolhendo o Melhor Modelo\n",
    "*Baseando-se nos experimentos que você executou até agora, explique em um ou dois parágrafos ao conselho de supervisores qual modelo que você escolheu como o melhor. Qual modelo é o mais apropriado baseado nos dados disponíveis, recursos limitados, custo e desempenho?*"
   ]
  },
  {
   "cell_type": "markdown",
   "metadata": {},
   "source": [
    "**Resposta: **\n",
    "\n",
    "Segundo os resultados obtidos e tabulados, o melhor classificador para este caso de uso é o Supprt Vector Machine. Justificativas:\n",
    "\n",
    "Como previsto o classificador por árvore de decisão se mostrou sobreajustado, em diferentes conjuntos de treinamento, a pontuação f1 de treinamento esteve sempre em 1.0 (ver tabela abaixo), o que demonstra que o modelo sobreajustou para atender os pontos de treinamento, e por isso ele não conseguiu ser genérico o suficiente para classificar os dados de teste, obtendo a pior pontuação f1 de teste entre os modelos, o que eliminou a árvore de decisão já neste quesito."
   ]
  },
  {
   "cell_type": "code",
   "execution_count": 114,
   "metadata": {},
   "outputs": [
    {
     "name": "stdout",
     "output_type": "stream",
     "text": [
      "\u001b[1m\u001b[4m\n",
      "Classificador 2 - DecisionTreeClassifier\u001b[0m\n"
     ]
    },
    {
     "data": {
      "text/markdown": [
       "Tamanho do Conj de Treinamento|Pontuacao F1 (treinamento)|Pontuacao F1 (teste)\n",
       "---|---|---\n",
       "100|1.0000.|0.6667.\n",
       "200|1.0000.|0.6818.\n",
       "300|1.0000.|0.6774.\n"
      ],
      "text/plain": [
       "<IPython.core.display.Markdown object>"
      ]
     },
     "metadata": {},
     "output_type": "display_data"
    }
   ],
   "source": [
    "print '\\033[1m' + '\\033[4m' + \"\\nClassificador 2\" + ' - ' + clfs[1].__class__.__name__ + '\\033[0m'\n",
    "pandas_df_to_markdown_table(dfs[1][[col_1, col_4, col_5]].copy())"
   ]
  },
  {
   "cell_type": "markdown",
   "metadata": {},
   "source": [
    "Já a decisão entre Regressão Logística e Support Vector Machine foi muito difícil, pois ambos os modelos foram rodados em diferentes \"random_state\" e em cada momento um se saia melhor que o outro (no que diz respeito a pontuação f1), no entanto, o Regressor Logístico se mostrou mais estável, e possui um desempenho de processamento duas vezes mais rápido que o SVM, tanto do treinamento, quanto no teste. Além disso, a pontuação f1 de treino está bem próxima da de teste, o que demonstra que o modelo está bem ajustado para este projeto. Portanto, o modelo escolhido foi o de Regressão Logística, e o melhor desempenho foi com um conjunto de treinamento de 300 elementos, se mostrando um dos modelos com mais rápido processamento, e com melhor pontuação f1."
   ]
  },
  {
   "cell_type": "code",
   "execution_count": 115,
   "metadata": {},
   "outputs": [
    {
     "name": "stdout",
     "output_type": "stream",
     "text": [
      "\u001b[1m\u001b[4m\n",
      "Melhor Modelo: LogisticRegression\u001b[0m\n"
     ]
    },
    {
     "data": {
      "text/markdown": [
       "Tamanho do Conj de Treinamento|Tempo de Treinamento|Tempo de Estimativa (teste)|Pontuacao F1 (treinamento)|Pontuacao F1 (teste)\n",
       "---|---|---|---|---\n",
       "300|0.0050 seg|0.0000 seg|0.8263.|0.8169.\n"
      ],
      "text/plain": [
       "<IPython.core.display.Markdown object>"
      ]
     },
     "metadata": {},
     "output_type": "display_data"
    }
   ],
   "source": [
    "print '\\033[1m' + '\\033[4m' + \"\\nMelhor Modelo: \" + clfs[0].__class__.__name__ + '\\033[0m'\n",
    "pandas_df_to_markdown_table(dfs[0].loc[[300]])"
   ]
  },
  {
   "cell_type": "markdown",
   "metadata": {},
   "source": [
    "### Questão 4 – O Modelo para um Leigo\n",
    "*Em um ou dois parágrafos, explique para o conselho de supervisores, utilizando termos leigos, como o modelo final escolhido deve trabalhar. Tenha certeza que você esteja descrevendo as melhores qualidades do modelo, por exemplo, como o modelo é treinado e como ele faz uma estimativa. Evite jargões técnicos ou matemáticos, como descrever equações ou discutir a implementação do algoritmo.*"
   ]
  },
  {
   "cell_type": "markdown",
   "metadata": {},
   "source": [
    "**Resposta: **\n",
    "\n",
    "Nosso modelo trabalha em duas etapas:\n",
    "\n",
    "Na primeira o modelo aprende com os dados levantados na tabela de atributos, e o indicador se o aluno irá se formar ou não. O modelo consegue fazer associações, atributo por atributo, de cada aluno, e sabendo se ele se formou ou não, consegue identificar pesos para cada um e assim prever a aprovação ou repetência de um aluno. \n",
    "\n",
    "A segunda etapa, com o modelo já aprendido, é prever se uma lista de novos alunos, com os mesmos atributos, quais conseguirão se formar sem auxílio extra, e identificando aqueles que podem reprovar podemos então tomar medidas preventivas. O modelo pode fazer isso, pois compara cada atributo dos novos alunos com os atributos e o peso identificado anteriormente (com os dados de alunos que foram aprovados ou reprovados no passado). Algumas vantagens desse método de identificação são: É um modelo de ágil processamento e os atributos dos alunos podem ser isolados e independentes."
   ]
  },
  {
   "cell_type": "markdown",
   "metadata": {},
   "source": [
    "### Implementação: Calibrando o Modelo\n",
    "Calibre o modelo escolhido. Utilize busca em matriz (`GridSearchCV`) com, pelo menos, um parâmetro importante calibrado com, pelo menos, 3 valores diferentes. Você vai precisar utilizar todo o conjunto de treinamento para isso. Na célula de código abaixo, você deve implementar o seguinte:\n",
    "- Importe [`sklearn.grid_search.gridSearchCV`](http://scikit-learn.org/stable/modules/generated/sklearn.grid_search.GridSearchCV.html) e [`sklearn.metrics.make_scorer`](http://scikit-learn.org/stable/modules/generated/sklearn.metrics.make_scorer.html).\n",
    "- Crie o dicionário de parâmetros que você deseja calibrar para o modelo escolhido.\n",
    " - Examplo: `parameters = {'parameter' : [list of values]}`.\n",
    "- Inicialize o classificador que você escolheu e armazene-o em `clf`.\n",
    "- Crie a função de pontuação F<sub>1</sub> utilizando `make_scorer` e armazene-o em `f1_scorer`.\n",
    " - Estabeleça o parâmetro `pos_label` para o valor correto!\n",
    "- Execute uma busca em matriz no classificador `clf` utilizando o `f1_scorer` como método de pontuação e armazene-o em `grid_obj`.\n",
    "- Treine o objeto de busca em matriz com os dados de treinamento (`X_train`, `y_train`) e armazene-o em `grid_obj`."
   ]
  },
  {
   "cell_type": "code",
   "execution_count": 116,
   "metadata": {},
   "outputs": [
    {
     "name": "stdout",
     "output_type": "stream",
     "text": [
      "As previsões foram feitas em 0.0010 segundos.\n",
      "As previsões foram feitas em 0.0010 segundos.\n",
      "\n",
      "O modelo calibrado tem F1 de 0.8267 no conjunto de treinamento.\n",
      "O modelo calibrado tem F1 de 0.8243 no conjunto de teste.\n",
      "\n",
      "Melhores parametros:\n",
      "C = 0.1\n",
      "class_weight = None\n",
      "solver = sag\n"
     ]
    }
   ],
   "source": [
    "# TODO: Importe 'GridSearchCV' e 'make_scorer'\n",
    "from sklearn.grid_search import GridSearchCV\n",
    "from sklearn.metrics import fbeta_score, make_scorer\n",
    "\n",
    "# Novo embaralhamento para busca de parametros\n",
    "X_train_cv, X_test_cv, y_train_cv, y_test_cv = train_test_split(X_all, y_all, test_size=100, random_state=30)\n",
    "\n",
    "# TODO: Crie a lista de parâmetros que você gostaria de calibrar\n",
    "C = [0.001, 0.01, 0.1, 1, 10, 100, 1000]\n",
    "solver = ['sag']\n",
    "class_weight = ['balanced', None]\n",
    "parameters = {'C': C,\n",
    "              'solver': solver,\n",
    "              'class_weight': class_weight}\n",
    "\n",
    "# TODO: Inicialize o classificador\n",
    "clf = LogisticRegression(random_state=custom_random_state)\n",
    "\n",
    "# TODO: Faça uma função de pontuação f1 utilizando 'make_scorer' \n",
    "f1_scorer = make_scorer(f1_score, pos_label='yes')\n",
    "\n",
    "# TODO: Execute uma busca em matriz no classificador utilizando o f1_scorer como método de pontuação\n",
    "grid_obj = GridSearchCV(clf, parameters, scoring=f1_scorer, cv=5, verbose=0)\n",
    "\n",
    "# TODO: Ajuste o objeto de busca em matriz para o treinamento de dados e encontre os parâmetros ótimos\n",
    "grid_obj.fit(X_train_cv, y_train_cv)\n",
    "\n",
    "# Get the estimator\n",
    "clf = grid_obj.best_estimator_\n",
    "\n",
    "# Reporte a pontuação final F1 para treinamento e teste depois de calibrar os parâmetros\n",
    "tuned_f1_train = \"{:.4f}\".format(predict_labels(clf, X_train_300, y_train_300))\n",
    "tuned_f1_test = \"{:.4f}\".format(predict_labels(clf, X_test, y_test))\n",
    "print \"\\nO modelo calibrado tem F1 de \" + tuned_f1_train + \" no conjunto de treinamento.\"\n",
    "print \"O modelo calibrado tem F1 de \" + tuned_f1_test + \" no conjunto de teste.\"\n",
    "\n",
    "print \"\\nMelhores parametros:\"\n",
    "print \"C = \" + str(grid_obj.best_params_['C'])\n",
    "print \"class_weight = \" + str(grid_obj.best_params_['class_weight'])\n",
    "print \"solver = \" + str(grid_obj.best_params_['solver'])\n",
    "\n",
    "df_tuned = dfs[0].copy()\n",
    "df_tuned.loc[300, col_4] = tuned_f1_train\n",
    "df_tuned.loc[300, col_5] = tuned_f1_test"
   ]
  },
  {
   "cell_type": "markdown",
   "metadata": {},
   "source": [
    "### Questão 5 - Pontuação F<sub>1</sub> Final\n",
    "*Qual é a pontuação F<sub>1</sub> do modelo final para treinamento e teste? Como ele se compara ao modelo que não foi calibrado?*"
   ]
  },
  {
   "cell_type": "markdown",
   "metadata": {},
   "source": [
    "**Resposta: **\n",
    "\n",
    "Primeiramente, segui esta referência e fiz um novo embaralhamento de dados para buscar os melhores parâmetros.<br/>\n",
    "Referência: https://stackoverflow.com/questions/43530761/cross-validation-with-grid-search-returns-worse-results-than-default Acessado em 23/12/2017. <br/>\n",
    "Depois eu apliquei a comparação sobre o mesmo modelo que defini como sendo o melhor, que no caso foi o de Regressão Logística com 300 elementos. Assim obtive os seguintes resultados:<br/>\n"
   ]
  },
  {
   "cell_type": "code",
   "execution_count": 117,
   "metadata": {},
   "outputs": [
    {
     "name": "stdout",
     "output_type": "stream",
     "text": [
      "\u001b[1m\u001b[4m\n",
      "Antes: LogisticRegression\u001b[0m\n"
     ]
    },
    {
     "data": {
      "text/markdown": [
       "Tamanho do Conj de Treinamento|Pontuacao F1 (treinamento)|Pontuacao F1 (teste)\n",
       "---|---|---\n",
       "300|0.8263.|0.8169.\n"
      ],
      "text/plain": [
       "<IPython.core.display.Markdown object>"
      ]
     },
     "metadata": {},
     "output_type": "display_data"
    },
    {
     "name": "stdout",
     "output_type": "stream",
     "text": [
      "\u001b[1m\u001b[4m\n",
      "Depois: LogisticRegression\u001b[0m\n"
     ]
    },
    {
     "data": {
      "text/markdown": [
       "Tamanho do Conj de Treinamento|Pontuacao F1 (treinamento)|Pontuacao F1 (teste)\n",
       "---|---|---\n",
       "300|0.8267|0.8243\n"
      ],
      "text/plain": [
       "<IPython.core.display.Markdown object>"
      ]
     },
     "metadata": {},
     "output_type": "display_data"
    }
   ],
   "source": [
    "print '\\033[1m' + '\\033[4m' + \"\\nAntes: \" + clfs[0].__class__.__name__ + '\\033[0m'\n",
    "pandas_df_to_markdown_table(dfs[0].loc[[300],[col_1, col_4, col_5]])\n",
    "\n",
    "print '\\033[1m' + '\\033[4m' + \"\\nDepois: \" + clfs[0].__class__.__name__ + '\\033[0m'\n",
    "pandas_df_to_markdown_table(df_tuned.loc[[300],[col_1, col_4, col_5]])"
   ]
  },
  {
   "cell_type": "markdown",
   "metadata": {},
   "source": [
    "Como podemos notar, o modelo teve um ligeira melhora nos resultados, tanto de treinamento, quanto de teste, assim como a distância entre as duas pontuações diminuiu, o que tornou o modelo ainda mais bem ajustado ao projeto, reforçando a boa escolha do classificador para o problema dado."
   ]
  },
  {
   "cell_type": "markdown",
   "metadata": {},
   "source": [
    "> **Nota**: Uma vez que você completou todas as implementações de código e respondeu todas as questões acima com êxito, você pode finalizar seu trabalho exportando o iPython Nothebook como um document HTML. Você pode fazer isso utilizando o menu acima e navegando para  \n",
    "**File -> Download as -> HTML (.html)**. Inclua a documentação final junto com o notebook para o envio do seu projeto."
   ]
  }
 ],
 "metadata": {
  "anaconda-cloud": {},
  "kernelspec": {
   "display_name": "Python 2",
   "language": "python",
   "name": "python2"
  },
  "language_info": {
   "codemirror_mode": {
    "name": "ipython",
    "version": 2
   },
   "file_extension": ".py",
   "mimetype": "text/x-python",
   "name": "python",
   "nbconvert_exporter": "python",
   "pygments_lexer": "ipython2",
   "version": "2.7.14"
  }
 },
 "nbformat": 4,
 "nbformat_minor": 1
}
